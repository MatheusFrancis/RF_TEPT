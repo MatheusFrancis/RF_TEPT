{
 "cells": [
  {
   "cell_type": "code",
   "execution_count": 69,
   "id": "5a7b0d83",
   "metadata": {},
   "outputs": [],
   "source": [
    "import nibabel as nib\n",
    "import numpy as np\n",
    "from sklearn.ensemble import RandomForestRegressor"
   ]
  },
  {
   "cell_type": "code",
   "execution_count": 70,
   "id": "15dc815b",
   "metadata": {},
   "outputs": [
    {
     "name": "stdout",
     "output_type": "stream",
     "text": [
      "(86, 173628)\n"
     ]
    }
   ],
   "source": [
    "import os\n",
    "\n",
    "\n",
    "def join_nii_files(file_name_pattern, parent_directory):\n",
    "\n",
    "\n",
    "    subdirectories = [d for d in os.listdir(parent_directory) if os.path.isdir(os.path.join(parent_directory, d))]\n",
    "\n",
    "    individual_data = []\n",
    "\n",
    "    for subdirectory in subdirectories:\n",
    "        file_path = os.path.join(parent_directory, subdirectory, file_name_pattern)\n",
    "        data_raw = nib.load(file_path)\n",
    "        data = data_raw.get_fdata()\n",
    "        data_flattened = data.flatten()  #convert 3d-array into a flattened 1d-array\n",
    "        individual_data.append(data_flattened)\n",
    "    \n",
    "    return individual_data\n",
    "\n",
    "joined_data = np.concatenate((join_nii_files(\"beta_0002.nii\", \"C:\\\\Users\\\\mathe\\\\Downloads\\\\Dados de fMRI\\\\Cont\"),\n",
    "                            join_nii_files(\"beta_0011.nii\", \"C:\\\\Users\\\\mathe\\\\Downloads\\\\Dados de fMRI\\\\Cont\"),\n",
    "                            join_nii_files(\"beta_0002.nii\", \"C:\\\\Users\\\\mathe\\\\Downloads\\\\Dados de fMRI\\\\Pct\"),\n",
    "                            join_nii_files(\"beta_0011.nii\", \"C:\\\\Users\\\\mathe\\\\Downloads\\\\Dados de fMRI\\\\Pct\")), axis=0)\n",
    "\n",
    "\n",
    "print(joined_data.shape)\n",
    "\n",
    "brain_valid_data = np.nan_to_num(joined_data, nan=0)   #Replace all the NaN values with 0's\n",
    "\n",
    "label = np.loadtxt(\"Data/K-Fold_PCL-5.txt\", dtype=\"float\")"
   ]
  },
  {
   "cell_type": "code",
   "execution_count": 71,
   "metadata": {},
   "outputs": [
    {
     "name": "stdout",
     "output_type": "stream",
     "text": [
      "(86, 173628)\n"
     ]
    }
   ],
   "source": [
    "print(brain_valid_data.shape)"
   ]
  },
  {
   "cell_type": "code",
   "execution_count": 81,
   "id": "cd17ad8d",
   "metadata": {},
   "outputs": [
    {
     "name": "stdout",
     "output_type": "stream",
     "text": [
      "[52. 58. 53. 52. 52. 58. 41. 34.  3. 15. 63. 17. 15.  7. 15. 32. 17.]\n",
      "[ 6. 33.  7. 57. 11. 63.  7.  3.  2.  1. 15.  1. 43.  2.  3.  6. 22.]\n",
      "[22. 53. 17. 43. 22.  7. 22. 33. 52. 32. 53. 17. 17. 33. 15.  3.  0.]\n",
      "[ 1. 32.  1.  5. 34.  0.  5.  6. 44. 58.  1. 22. 17.  3. 15. 47. 53.]\n",
      "[ 0. 41. 52. 43. 40.  0. 53. 17. 41.  6. 40.  3.  0. 40. 32. 53. 14.]\n",
      "[17.  3. 58. 43. 40. 35. 14. 41. 33. 33.  5. 33. 52. 53.  3. 68.  6.]\n",
      "[33. 41. 68.  1. 34. 57.  1.  3. 43.  7.  1.  3. 43.  5.  2.  3.  7.]\n",
      "[53.  0.  0.  1. 68. 52. 14. 44. 64.  0. 35.  5. 64. 40. 52. 15.  7.]\n",
      "[63.  6. 68. 47.  0. 44. 34. 40. 40.  5. 33. 63.  0. 15.  5. 34.  5.]\n",
      "[58.  0.  0. 47.  3. 57. 34.  7. 58.  3. 11. 63. 41. 32. 53. 15. 52.]\n"
     ]
    }
   ],
   "source": [
    "def KFoldRegressor_TEPT(X, y):\n",
    "    \n",
    "    num_folds = 5\n",
    "    num_samples = 86\n",
    "\n",
    "    arr_ord = np.arange(num_samples)\n",
    "    np.random.shuffle(arr_ord)\n",
    "\n",
    "    arr_misc = np.concatenate((X[arr_ord[0:17], :], X[arr_ord[17:34], :], X[arr_ord[34:51], :], X[arr_ord[51:68], :], X[arr_ord[68:85], :]), axis = 0)\n",
    "    label_misc = np.concatenate((y[arr_ord[0:17]], y[arr_ord[17:34]], y[arr_ord[34:51]], y[arr_ord[51:68]], y[arr_ord[68:85]] ), axis = 0)\n",
    "    \n",
    "    ind = [0, 17, 34, 51, 68, 85]\n",
    "\n",
    "    for i in range(5):\n",
    "        \n",
    "        rf = RandomForestRegressor(n_estimators = 1)\n",
    "\n",
    "        slices_deleted = slice(ind[i], ind[i + 1])\n",
    "        result_arr = np.concatenate((arr_misc[:slices_deleted.start], arr_misc[slices_deleted.stop:]))\n",
    "        result_label = np.concatenate((label_misc[:slices_deleted.start], label_misc[slices_deleted.stop:]))\n",
    "\n",
    "\n",
    "        rf.fit(result_arr, result_label)\n",
    "        y_pred = rf.predict(arr_misc[ind[i]:ind[i+1]])\n",
    "\n",
    "        print(y_pred)\n",
    "        print(label_misc[ind[i]:ind[i+1]])\n",
    "\n",
    "\n",
    "\n",
    "\n",
    "\n",
    "    return\n",
    "\n",
    "KFoldRegressor_TEPT(brain_valid_data, label)\n"
   ]
  }
 ],
 "metadata": {
  "kernelspec": {
   "display_name": "Python 3 (ipykernel)",
   "language": "python",
   "name": "python3"
  },
  "language_info": {
   "codemirror_mode": {
    "name": "ipython",
    "version": 3
   },
   "file_extension": ".py",
   "mimetype": "text/x-python",
   "name": "python",
   "nbconvert_exporter": "python",
   "pygments_lexer": "ipython3",
   "version": "3.11.4"
  }
 },
 "nbformat": 4,
 "nbformat_minor": 5
}
