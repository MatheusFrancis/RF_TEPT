{
 "cells": [
  {
   "cell_type": "code",
   "execution_count": 112,
   "id": "5a7b0d83",
   "metadata": {},
   "outputs": [],
   "source": [
    "import nibabel as nib\n",
    "import numpy as np\n",
    "from sklearn.ensemble import RandomForestRegressor"
   ]
  },
  {
   "cell_type": "code",
   "execution_count": 113,
   "id": "15dc815b",
   "metadata": {},
   "outputs": [
    {
     "name": "stdout",
     "output_type": "stream",
     "text": [
      "(86, 173628)\n"
     ]
    }
   ],
   "source": [
    "import os\n",
    "\n",
    "\n",
    "def join_nii_files(file_name_pattern, parent_directory):\n",
    "\n",
    "\n",
    "    subdirectories = [d for d in os.listdir(parent_directory) if os.path.isdir(os.path.join(parent_directory, d))]\n",
    "\n",
    "    individual_data = []\n",
    "\n",
    "    for subdirectory in subdirectories:\n",
    "        file_path = os.path.join(parent_directory, subdirectory, file_name_pattern)\n",
    "        data_raw = nib.load(file_path)\n",
    "        data = data_raw.get_fdata()\n",
    "        data_flattened = data.flatten()  #convert 3d-array into a flattened 1d-array\n",
    "        individual_data.append(data_flattened)\n",
    "    \n",
    "    return individual_data\n",
    "\n",
    "joined_data = np.concatenate((join_nii_files(\"beta_0002.nii\", \"C:\\\\Users\\\\mathe\\\\Downloads\\\\Dados de fMRI\\\\Cont\"),\n",
    "                            join_nii_files(\"beta_0011.nii\", \"C:\\\\Users\\\\mathe\\\\Downloads\\\\Dados de fMRI\\\\Cont\"),\n",
    "                            join_nii_files(\"beta_0002.nii\", \"C:\\\\Users\\\\mathe\\\\Downloads\\\\Dados de fMRI\\\\Pct\"),\n",
    "                            join_nii_files(\"beta_0011.nii\", \"C:\\\\Users\\\\mathe\\\\Downloads\\\\Dados de fMRI\\\\Pct\")), axis=0)\n",
    "\n",
    "\n",
    "print(joined_data.shape)\n",
    "\n",
    "brain_valid_data = np.nan_to_num(joined_data, nan=0)   #Replace all the NaN values with 0's\n",
    "\n",
    "label = np.loadtxt(\"Data/K-Fold_PCL-5.txt\", dtype=\"float\")"
   ]
  },
  {
   "cell_type": "code",
   "execution_count": 114,
   "id": "c5ebf592",
   "metadata": {},
   "outputs": [
    {
     "name": "stdout",
     "output_type": "stream",
     "text": [
      "(86, 173628)\n"
     ]
    }
   ],
   "source": [
    "print(brain_valid_data.shape)"
   ]
  },
  {
   "cell_type": "code",
   "execution_count": 115,
   "id": "cd17ad8d",
   "metadata": {},
   "outputs": [],
   "source": [
    "def KFoldRegressor_TEPT(X, y):\n",
    "    \n",
    "    num_folds = 5\n",
    "    num_samples = 86\n",
    "\n",
    "    arr_ord = np.arange(num_samples)\n",
    "    np.random.shuffle(arr_ord)\n",
    "\n",
    "    arr_misc = np.concatenate((X[arr_ord[0:17], :], X[arr_ord[17:34], :], X[arr_ord[34:51], :], X[arr_ord[51:68], :], X[arr_ord[68:85], :]), axis = 0)\n",
    "    label_misc = np.concatenate((y[arr_ord[0:17]], y[arr_ord[17:34]], y[arr_ord[34:51]], y[arr_ord[51:68]], y[arr_ord[68:85]] ), axis = 0)\n",
    "    \n",
    "    ind = [0, 17, 34, 51, 68, 85]\n",
    "\n",
    "\n",
    "    arr_pred = []\n",
    "    for i in range(5):\n",
    "        \n",
    "        rf = RandomForestRegressor(n_estimators = 50)\n",
    "\n",
    "        slices_deleted = slice(ind[i], ind[i + 1])\n",
    "        result_arr = np.concatenate((arr_misc[:slices_deleted.start], arr_misc[slices_deleted.stop:]))\n",
    "        result_label = np.concatenate((label_misc[:slices_deleted.start], label_misc[slices_deleted.stop:]))\n",
    "\n",
    "\n",
    "        rf.fit(result_arr, result_label)\n",
    "        y_pred = rf.predict(arr_misc[ind[i]:ind[i+1]])\n",
    "\n",
    "        arr_pred.append(y_pred)\n",
    "\n",
    "\n",
    "\n",
    "    return arr_pred, label_misc\n",
    "\n",
    "arr_pred, label_misc = KFoldRegressor_TEPT(brain_valid_data, label)\n"
   ]
  },
  {
   "cell_type": "code",
   "execution_count": 125,
   "id": "921f054c",
   "metadata": {},
   "outputs": [
    {
     "name": "stdout",
     "output_type": "stream",
     "text": [
      "[14.94 29.62 36.58 20.12 25.76 34.08 24.06 23.94 22.2  26.48 30.74 38.14\n",
      " 28.04 27.08 11.6  20.9  25.86 18.82 17.04 32.62 19.48 22.32 32.46 28.46\n",
      " 26.72 34.4  37.38 39.22 32.3  26.06 18.5  24.78 26.62 34.68 26.62 33.16\n",
      " 33.72 39.66 37.24 38.44 29.34 24.36 35.04 34.64 23.24 31.24 34.5  20.9\n",
      " 25.86 32.68 22.1  29.84 20.1  17.46 17.24 33.1  28.92 24.3  23.6  40.82\n",
      " 20.14 29.08 16.6  29.5  30.3  26.28 23.62 26.4  19.   27.94 25.64 31.7\n",
      " 34.42 26.36 22.   28.26 15.44 11.3  26.58 19.92 31.54 30.58 24.66 15.46\n",
      " 18.16]\n"
     ]
    }
   ],
   "source": [
    "arr_total = np.concatenate((arr_pred[0], arr_pred[1], arr_pred[2], arr_pred[3], arr_pred[4]), axis = 0)\n",
    "print(arr_total)"
   ]
  },
  {
   "cell_type": "code",
   "execution_count": 126,
   "id": "b4dc20df",
   "metadata": {},
   "outputs": [
    {
     "data": {
      "text/plain": [
       "PearsonRResult(statistic=0.2506902954890549, pvalue=0.02066148410653251)"
      ]
     },
     "execution_count": 126,
     "metadata": {},
     "output_type": "execute_result"
    }
   ],
   "source": [
    "import scipy\n",
    "\n",
    "scipy.stats.pearsonr(arr_total, label_misc)"
   ]
  }
 ],
 "metadata": {
  "kernelspec": {
   "display_name": "Python 3 (ipykernel)",
   "language": "python",
   "name": "python3"
  },
  "language_info": {
   "codemirror_mode": {
    "name": "ipython",
    "version": 3
   },
   "file_extension": ".py",
   "mimetype": "text/x-python",
   "name": "python",
   "nbconvert_exporter": "python",
   "pygments_lexer": "ipython3",
   "version": "3.11.4"
  }
 },
 "nbformat": 4,
 "nbformat_minor": 5
}
