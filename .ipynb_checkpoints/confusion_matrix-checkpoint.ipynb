{
 "cells": [
  {
   "cell_type": "code",
   "execution_count": null,
   "id": "09ebd699",
   "metadata": {},
   "outputs": [],
   "source": [
    "import numpy as np\n",
    "import os\n",
    "\n",
    "\n",
    "def join_nii_files(file_name_pattern, parent_directory):\n",
    "\n",
    "\n",
    "    subdirectories = [d for d in os.listdir(parent_directory) if os.path.isdir(os.path.join(parent_directory, d))]\n",
    "\n",
    "    individual_data = []\n",
    "\n",
    "    for subdirectory in subdirectories:\n",
    "        file_path = os.path.join(parent_directory, subdirectory, file_name_pattern)\n",
    "        data_raw = nib.load(file_path)\n",
    "        data = data_raw.get_fdata()\n",
    "        data_flattened = data.flatten()  #convert 3d-array into a flattened 1d-array\n",
    "        individual_data.append(data_flattened)\n",
    "    \n",
    "    return individual_data\n",
    "\n",
    "joined_data = np.concatenate((join_nii_files(\"beta_0002.nii\", \"C:\\\\Users\\\\mathe\\\\Downloads\\\\Dados de fMRI\\\\Pct\"),\n",
    "                            join_nii_files(\"beta_0011.nii\", \"C:\\\\Users\\\\mathe\\\\Downloads\\\\Dados de fMRI\\\\Pct\"),\n",
    "                            join_nii_files(\"beta_0002.nii\", \"C:\\\\Users\\\\mathe\\\\Downloads\\\\Dados de fMRI\\\\Cont\"),\n",
    "                            join_nii_files(\"beta_0011.nii\", \"C:\\\\Users\\\\mathe\\\\Downloads\\\\Dados de fMRI\\\\Cont\")), axis=0)\n",
    "\n",
    "\n",
    "print(joined_data.shape)\n",
    "\n",
    "brain_valid_data = np.nan_to_num(joined_data, nan=0)   #Replace all the NaN values with 0's\n",
    "\n",
    "label = np.concatenate((np.ones(38), np.zeros(44)))"
   ]
  }
 ],
 "metadata": {
  "kernelspec": {
   "display_name": "Python 3 (ipykernel)",
   "language": "python",
   "name": "python3"
  },
  "language_info": {
   "codemirror_mode": {
    "name": "ipython",
    "version": 3
   },
   "file_extension": ".py",
   "mimetype": "text/x-python",
   "name": "python",
   "nbconvert_exporter": "python",
   "pygments_lexer": "ipython3",
   "version": "3.11.4"
  }
 },
 "nbformat": 4,
 "nbformat_minor": 5
}
