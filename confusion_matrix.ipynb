{
 "cells": [
  {
   "cell_type": "code",
   "execution_count": 8,
   "id": "09ebd699",
   "metadata": {},
   "outputs": [
    {
     "name": "stdout",
     "output_type": "stream",
     "text": [
      "(80, 173628)\n"
     ]
    }
   ],
   "source": [
    "import nibabel as nib\n",
    "import numpy as np\n",
    "import os\n",
    "\n",
    "\n",
    "def join_nii_files(file_name_pattern, parent_directory):\n",
    "\n",
    "\n",
    "    subdirectories = [d for d in os.listdir(parent_directory) if os.path.isdir(os.path.join(parent_directory, d))]\n",
    "\n",
    "    individual_data = []\n",
    "\n",
    "    for subdirectory in subdirectories:\n",
    "        file_path = os.path.join(parent_directory, subdirectory, file_name_pattern)\n",
    "        data_raw = nib.load(file_path)\n",
    "        data = data_raw.get_fdata()\n",
    "        data_flattened = data.flatten()  #convert 3d-array into a flattened 1d-array\n",
    "        individual_data.append(data_flattened)\n",
    "    \n",
    "    return individual_data\n",
    "\n",
    "joined_data = np.concatenate((join_nii_files(\"beta_0002.nii\", \"C:\\\\Users\\\\mathe\\\\Downloads\\\\Dados de fMRI\\\\Pct\"),\n",
    "                            join_nii_files(\"beta_0011.nii\", \"C:\\\\Users\\\\mathe\\\\Downloads\\\\Dados de fMRI\\\\Pct\"),\n",
    "                            join_nii_files(\"beta_0002.nii\", \"C:\\\\Users\\\\mathe\\\\Downloads\\\\Dados de fMRI\\\\Cont\"),\n",
    "                            join_nii_files(\"beta_0011.nii\", \"C:\\\\Users\\\\mathe\\\\Downloads\\\\Dados de fMRI\\\\Cont\")), axis=0)\n",
    "\n",
    "\n",
    "print(joined_data.shape)\n",
    "\n",
    "brain_valid_data = np.nan_to_num(joined_data, nan=0)   #Replace all the NaN values with 0's\n",
    "\n",
    "label = np.concatenate((np.ones(40), np.zeros(40)))"
   ]
  },
  {
   "cell_type": "code",
   "execution_count": 9,
   "id": "0ef3f00a",
   "metadata": {},
   "outputs": [],
   "source": [
    "from sklearn.ensemble import RandomForestClassifier\n",
    "from sklearn.model_selection import train_test_split\n",
    "\n",
    "X_train, X_test, y_train, y_test = train_test_split(brain_valid_data, label, train_size=0.8, test_size=0.2)\n",
    "\n",
    "rf = RandomForestClassifier()\n",
    "rf.fit(X_train, y_train)\n",
    "\n",
    "y_pred = rf.predict(X_test)\n"
   ]
  },
  {
   "cell_type": "code",
   "execution_count": 10,
   "id": "56b0ebe8",
   "metadata": {},
   "outputs": [
    {
     "name": "stdout",
     "output_type": "stream",
     "text": [
      "[[8 1]\n",
      " [2 5]]\n",
      "0.8125\n"
     ]
    }
   ],
   "source": [
    "from sklearn import metrics\n",
    "\n",
    "confusion = metrics.confusion_matrix(y_test, y_pred)\n",
    "\n",
    "print(confusion)\n",
    "print(metrics.accuracy_score(y_test, y_pred))\n"
   ]
  },
  {
   "cell_type": "code",
   "execution_count": 11,
   "id": "8198002e",
   "metadata": {},
   "outputs": [
    {
     "name": "stdout",
     "output_type": "stream",
     "text": [
      "Sensitivity: 0.7142857142857143\n",
      "Specificity: 0.8888888888888888\n"
     ]
    }
   ],
   "source": [
    "tn, fp, fn, tp = confusion.ravel()\n",
    "sensitivity = tp / (tp + fn)\n",
    "specificity = tn / (tn + fp)\n",
    "\n",
    "print(\"Sensitivity:\", sensitivity)\n",
    "print(\"Specificity:\", specificity)"
   ]
  }
 ],
 "metadata": {
  "kernelspec": {
   "display_name": "Python 3 (ipykernel)",
   "language": "python",
   "name": "python3"
  },
  "language_info": {
   "codemirror_mode": {
    "name": "ipython",
    "version": 3
   },
   "file_extension": ".py",
   "mimetype": "text/x-python",
   "name": "python",
   "nbconvert_exporter": "python",
   "pygments_lexer": "ipython3",
   "version": "3.11.4"
  }
 },
 "nbformat": 4,
 "nbformat_minor": 5
}
